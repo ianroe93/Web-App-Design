{
  "nbformat": 4,
  "nbformat_minor": 0,
  "metadata": {
    "colab": {
      "provenance": []
    },
    "kernelspec": {
      "name": "python3",
      "display_name": "Python 3"
    },
    "language_info": {
      "name": "python"
    }
  },
  "cells": [
    {
      "cell_type": "markdown",
      "source": [
        "# Install/ Import Packages"
      ],
      "metadata": {
        "id": "Bu4UIZWnZJ3A"
      }
    },
    {
      "cell_type": "code",
      "execution_count": 1,
      "metadata": {
        "id": "6ffjca-9KKVG"
      },
      "outputs": [],
      "source": [
        "import pandas as pd\n",
        "import numpy as np\n",
        "from xgboost import XGBClassifier "
      ]
    },
    {
      "cell_type": "code",
      "source": [
        "!pip install autogluon"
      ],
      "metadata": {
        "id": "BhULROMYQV1e"
      },
      "execution_count": null,
      "outputs": []
    },
    {
      "cell_type": "code",
      "source": [
        "!pip install explainerdashboard"
      ],
      "metadata": {
        "id": "z6BCBeNWKp4g"
      },
      "execution_count": null,
      "outputs": []
    },
    {
      "cell_type": "code",
      "source": [
        "train = pd.read_csv(\"/content/drive/MyDrive/2023hilton/train_to_colab.csv\")\n",
        "test = pd.read_csv(\"/content/drive/MyDrive/2023hilton/test_to_colab.csv\")"
      ],
      "metadata": {
        "id": "3XKictIoKseQ"
      },
      "execution_count": 3,
      "outputs": []
    },
    {
      "cell_type": "markdown",
      "source": [
        "## **AutoGluon:**"
      ],
      "metadata": {
        "id": "GdeSIOWMY9hA"
      }
    },
    {
      "cell_type": "code",
      "source": [
        "from autogluon.tabular import TabularPredictor\n",
        "predictor = TabularPredictor(label='IntentToStayHighLow',eval_metric='roc_auc').fit(train, time_limit=120)  # Fit models for 120s\n",
        "leaderboard = predictor.leaderboard(test)\n",
        "leaderboard"
      ],
      "metadata": {
        "colab": {
          "base_uri": "https://localhost:8080/",
          "height": 516
        },
        "id": "JU65uNyoQid6",
        "outputId": "2dcd7e3f-cf8a-4827-a4cb-f63a82d04114"
      },
      "execution_count": 21,
      "outputs": [
        {
          "output_type": "execute_result",
          "data": {
            "text/plain": [
              "                  model  score_test  score_val  pred_time_test  pred_time_val  \\\n",
              "0              LightGBM    0.922339   0.918589        0.013804       0.005935   \n",
              "1              CatBoost    0.921797   0.922068        0.006185       0.002098   \n",
              "2      RandomForestEntr    0.921180   0.919795        0.220653       0.108498   \n",
              "3   WeightedEnsemble_L2    0.920897   0.923807        1.665918       0.705425   \n",
              "4      RandomForestGini    0.920732   0.920049        0.218925       0.110815   \n",
              "5        ExtraTreesGini    0.920101   0.922388        0.256835       0.117181   \n",
              "6        ExtraTreesEntr    0.919134   0.920677        0.242000       0.128715   \n",
              "7         LightGBMLarge    0.917567   0.916775        0.034848       0.007576   \n",
              "8       NeuralNetFastAI    0.914275   0.915897        0.063888       0.024296   \n",
              "9            LightGBMXT    0.912800   0.915319        0.026820       0.007933   \n",
              "10       NeuralNetTorch    0.912233   0.913904        0.037760       0.020081   \n",
              "11       KNeighborsDist    0.875865   0.884373        0.517394       0.136483   \n",
              "12       KNeighborsUnif    0.873605   0.884373        0.549492       0.177635   \n",
              "\n",
              "     fit_time  pred_time_test_marginal  pred_time_val_marginal  \\\n",
              "0    0.620970                 0.013804                0.005935   \n",
              "1    2.114687                 0.006185                0.002098   \n",
              "2    3.237057                 0.220653                0.108498   \n",
              "3   27.153208                 0.008512                0.000595   \n",
              "4    1.844725                 0.218925                0.110815   \n",
              "5    1.590409                 0.256835                0.117181   \n",
              "6    1.502596                 0.242000                0.128715   \n",
              "7    1.138383                 0.034848                0.007576   \n",
              "8    7.452350                 0.063888                0.024296   \n",
              "9    0.846233                 0.026820                0.007933   \n",
              "10   6.967897                 0.037760                0.020081   \n",
              "11   0.024587                 0.517394                0.136483   \n",
              "12   0.036094                 0.549492                0.177635   \n",
              "\n",
              "    fit_time_marginal  stack_level  can_infer  fit_order  \n",
              "0            0.620970            1       True          4  \n",
              "1            2.114687            1       True          7  \n",
              "2            3.237057            1       True          6  \n",
              "3            0.422776            2       True         13  \n",
              "4            1.844725            1       True          5  \n",
              "5            1.590409            1       True          8  \n",
              "6            1.502596            1       True          9  \n",
              "7            1.138383            1       True         12  \n",
              "8            7.452350            1       True         10  \n",
              "9            0.846233            1       True          3  \n",
              "10           6.967897            1       True         11  \n",
              "11           0.024587            1       True          2  \n",
              "12           0.036094            1       True          1  "
            ],
            "text/html": [
              "\n",
              "  <div id=\"df-3f7219b4-4971-4d20-8fc3-ae7e49525270\">\n",
              "    <div class=\"colab-df-container\">\n",
              "      <div>\n",
              "<style scoped>\n",
              "    .dataframe tbody tr th:only-of-type {\n",
              "        vertical-align: middle;\n",
              "    }\n",
              "\n",
              "    .dataframe tbody tr th {\n",
              "        vertical-align: top;\n",
              "    }\n",
              "\n",
              "    .dataframe thead th {\n",
              "        text-align: right;\n",
              "    }\n",
              "</style>\n",
              "<table border=\"1\" class=\"dataframe\">\n",
              "  <thead>\n",
              "    <tr style=\"text-align: right;\">\n",
              "      <th></th>\n",
              "      <th>model</th>\n",
              "      <th>score_test</th>\n",
              "      <th>score_val</th>\n",
              "      <th>pred_time_test</th>\n",
              "      <th>pred_time_val</th>\n",
              "      <th>fit_time</th>\n",
              "      <th>pred_time_test_marginal</th>\n",
              "      <th>pred_time_val_marginal</th>\n",
              "      <th>fit_time_marginal</th>\n",
              "      <th>stack_level</th>\n",
              "      <th>can_infer</th>\n",
              "      <th>fit_order</th>\n",
              "    </tr>\n",
              "  </thead>\n",
              "  <tbody>\n",
              "    <tr>\n",
              "      <th>0</th>\n",
              "      <td>LightGBM</td>\n",
              "      <td>0.922339</td>\n",
              "      <td>0.918589</td>\n",
              "      <td>0.013804</td>\n",
              "      <td>0.005935</td>\n",
              "      <td>0.620970</td>\n",
              "      <td>0.013804</td>\n",
              "      <td>0.005935</td>\n",
              "      <td>0.620970</td>\n",
              "      <td>1</td>\n",
              "      <td>True</td>\n",
              "      <td>4</td>\n",
              "    </tr>\n",
              "    <tr>\n",
              "      <th>1</th>\n",
              "      <td>CatBoost</td>\n",
              "      <td>0.921797</td>\n",
              "      <td>0.922068</td>\n",
              "      <td>0.006185</td>\n",
              "      <td>0.002098</td>\n",
              "      <td>2.114687</td>\n",
              "      <td>0.006185</td>\n",
              "      <td>0.002098</td>\n",
              "      <td>2.114687</td>\n",
              "      <td>1</td>\n",
              "      <td>True</td>\n",
              "      <td>7</td>\n",
              "    </tr>\n",
              "    <tr>\n",
              "      <th>2</th>\n",
              "      <td>RandomForestEntr</td>\n",
              "      <td>0.921180</td>\n",
              "      <td>0.919795</td>\n",
              "      <td>0.220653</td>\n",
              "      <td>0.108498</td>\n",
              "      <td>3.237057</td>\n",
              "      <td>0.220653</td>\n",
              "      <td>0.108498</td>\n",
              "      <td>3.237057</td>\n",
              "      <td>1</td>\n",
              "      <td>True</td>\n",
              "      <td>6</td>\n",
              "    </tr>\n",
              "    <tr>\n",
              "      <th>3</th>\n",
              "      <td>WeightedEnsemble_L2</td>\n",
              "      <td>0.920897</td>\n",
              "      <td>0.923807</td>\n",
              "      <td>1.665918</td>\n",
              "      <td>0.705425</td>\n",
              "      <td>27.153208</td>\n",
              "      <td>0.008512</td>\n",
              "      <td>0.000595</td>\n",
              "      <td>0.422776</td>\n",
              "      <td>2</td>\n",
              "      <td>True</td>\n",
              "      <td>13</td>\n",
              "    </tr>\n",
              "    <tr>\n",
              "      <th>4</th>\n",
              "      <td>RandomForestGini</td>\n",
              "      <td>0.920732</td>\n",
              "      <td>0.920049</td>\n",
              "      <td>0.218925</td>\n",
              "      <td>0.110815</td>\n",
              "      <td>1.844725</td>\n",
              "      <td>0.218925</td>\n",
              "      <td>0.110815</td>\n",
              "      <td>1.844725</td>\n",
              "      <td>1</td>\n",
              "      <td>True</td>\n",
              "      <td>5</td>\n",
              "    </tr>\n",
              "    <tr>\n",
              "      <th>5</th>\n",
              "      <td>ExtraTreesGini</td>\n",
              "      <td>0.920101</td>\n",
              "      <td>0.922388</td>\n",
              "      <td>0.256835</td>\n",
              "      <td>0.117181</td>\n",
              "      <td>1.590409</td>\n",
              "      <td>0.256835</td>\n",
              "      <td>0.117181</td>\n",
              "      <td>1.590409</td>\n",
              "      <td>1</td>\n",
              "      <td>True</td>\n",
              "      <td>8</td>\n",
              "    </tr>\n",
              "    <tr>\n",
              "      <th>6</th>\n",
              "      <td>ExtraTreesEntr</td>\n",
              "      <td>0.919134</td>\n",
              "      <td>0.920677</td>\n",
              "      <td>0.242000</td>\n",
              "      <td>0.128715</td>\n",
              "      <td>1.502596</td>\n",
              "      <td>0.242000</td>\n",
              "      <td>0.128715</td>\n",
              "      <td>1.502596</td>\n",
              "      <td>1</td>\n",
              "      <td>True</td>\n",
              "      <td>9</td>\n",
              "    </tr>\n",
              "    <tr>\n",
              "      <th>7</th>\n",
              "      <td>LightGBMLarge</td>\n",
              "      <td>0.917567</td>\n",
              "      <td>0.916775</td>\n",
              "      <td>0.034848</td>\n",
              "      <td>0.007576</td>\n",
              "      <td>1.138383</td>\n",
              "      <td>0.034848</td>\n",
              "      <td>0.007576</td>\n",
              "      <td>1.138383</td>\n",
              "      <td>1</td>\n",
              "      <td>True</td>\n",
              "      <td>12</td>\n",
              "    </tr>\n",
              "    <tr>\n",
              "      <th>8</th>\n",
              "      <td>NeuralNetFastAI</td>\n",
              "      <td>0.914275</td>\n",
              "      <td>0.915897</td>\n",
              "      <td>0.063888</td>\n",
              "      <td>0.024296</td>\n",
              "      <td>7.452350</td>\n",
              "      <td>0.063888</td>\n",
              "      <td>0.024296</td>\n",
              "      <td>7.452350</td>\n",
              "      <td>1</td>\n",
              "      <td>True</td>\n",
              "      <td>10</td>\n",
              "    </tr>\n",
              "    <tr>\n",
              "      <th>9</th>\n",
              "      <td>LightGBMXT</td>\n",
              "      <td>0.912800</td>\n",
              "      <td>0.915319</td>\n",
              "      <td>0.026820</td>\n",
              "      <td>0.007933</td>\n",
              "      <td>0.846233</td>\n",
              "      <td>0.026820</td>\n",
              "      <td>0.007933</td>\n",
              "      <td>0.846233</td>\n",
              "      <td>1</td>\n",
              "      <td>True</td>\n",
              "      <td>3</td>\n",
              "    </tr>\n",
              "    <tr>\n",
              "      <th>10</th>\n",
              "      <td>NeuralNetTorch</td>\n",
              "      <td>0.912233</td>\n",
              "      <td>0.913904</td>\n",
              "      <td>0.037760</td>\n",
              "      <td>0.020081</td>\n",
              "      <td>6.967897</td>\n",
              "      <td>0.037760</td>\n",
              "      <td>0.020081</td>\n",
              "      <td>6.967897</td>\n",
              "      <td>1</td>\n",
              "      <td>True</td>\n",
              "      <td>11</td>\n",
              "    </tr>\n",
              "    <tr>\n",
              "      <th>11</th>\n",
              "      <td>KNeighborsDist</td>\n",
              "      <td>0.875865</td>\n",
              "      <td>0.884373</td>\n",
              "      <td>0.517394</td>\n",
              "      <td>0.136483</td>\n",
              "      <td>0.024587</td>\n",
              "      <td>0.517394</td>\n",
              "      <td>0.136483</td>\n",
              "      <td>0.024587</td>\n",
              "      <td>1</td>\n",
              "      <td>True</td>\n",
              "      <td>2</td>\n",
              "    </tr>\n",
              "    <tr>\n",
              "      <th>12</th>\n",
              "      <td>KNeighborsUnif</td>\n",
              "      <td>0.873605</td>\n",
              "      <td>0.884373</td>\n",
              "      <td>0.549492</td>\n",
              "      <td>0.177635</td>\n",
              "      <td>0.036094</td>\n",
              "      <td>0.549492</td>\n",
              "      <td>0.177635</td>\n",
              "      <td>0.036094</td>\n",
              "      <td>1</td>\n",
              "      <td>True</td>\n",
              "      <td>1</td>\n",
              "    </tr>\n",
              "  </tbody>\n",
              "</table>\n",
              "</div>\n",
              "      <button class=\"colab-df-convert\" onclick=\"convertToInteractive('df-3f7219b4-4971-4d20-8fc3-ae7e49525270')\"\n",
              "              title=\"Convert this dataframe to an interactive table.\"\n",
              "              style=\"display:none;\">\n",
              "        \n",
              "  <svg xmlns=\"http://www.w3.org/2000/svg\" height=\"24px\"viewBox=\"0 0 24 24\"\n",
              "       width=\"24px\">\n",
              "    <path d=\"M0 0h24v24H0V0z\" fill=\"none\"/>\n",
              "    <path d=\"M18.56 5.44l.94 2.06.94-2.06 2.06-.94-2.06-.94-.94-2.06-.94 2.06-2.06.94zm-11 1L8.5 8.5l.94-2.06 2.06-.94-2.06-.94L8.5 2.5l-.94 2.06-2.06.94zm10 10l.94 2.06.94-2.06 2.06-.94-2.06-.94-.94-2.06-.94 2.06-2.06.94z\"/><path d=\"M17.41 7.96l-1.37-1.37c-.4-.4-.92-.59-1.43-.59-.52 0-1.04.2-1.43.59L10.3 9.45l-7.72 7.72c-.78.78-.78 2.05 0 2.83L4 21.41c.39.39.9.59 1.41.59.51 0 1.02-.2 1.41-.59l7.78-7.78 2.81-2.81c.8-.78.8-2.07 0-2.86zM5.41 20L4 18.59l7.72-7.72 1.47 1.35L5.41 20z\"/>\n",
              "  </svg>\n",
              "      </button>\n",
              "      \n",
              "  <style>\n",
              "    .colab-df-container {\n",
              "      display:flex;\n",
              "      flex-wrap:wrap;\n",
              "      gap: 12px;\n",
              "    }\n",
              "\n",
              "    .colab-df-convert {\n",
              "      background-color: #E8F0FE;\n",
              "      border: none;\n",
              "      border-radius: 50%;\n",
              "      cursor: pointer;\n",
              "      display: none;\n",
              "      fill: #1967D2;\n",
              "      height: 32px;\n",
              "      padding: 0 0 0 0;\n",
              "      width: 32px;\n",
              "    }\n",
              "\n",
              "    .colab-df-convert:hover {\n",
              "      background-color: #E2EBFA;\n",
              "      box-shadow: 0px 1px 2px rgba(60, 64, 67, 0.3), 0px 1px 3px 1px rgba(60, 64, 67, 0.15);\n",
              "      fill: #174EA6;\n",
              "    }\n",
              "\n",
              "    [theme=dark] .colab-df-convert {\n",
              "      background-color: #3B4455;\n",
              "      fill: #D2E3FC;\n",
              "    }\n",
              "\n",
              "    [theme=dark] .colab-df-convert:hover {\n",
              "      background-color: #434B5C;\n",
              "      box-shadow: 0px 1px 3px 1px rgba(0, 0, 0, 0.15);\n",
              "      filter: drop-shadow(0px 1px 2px rgba(0, 0, 0, 0.3));\n",
              "      fill: #FFFFFF;\n",
              "    }\n",
              "  </style>\n",
              "\n",
              "      <script>\n",
              "        const buttonEl =\n",
              "          document.querySelector('#df-3f7219b4-4971-4d20-8fc3-ae7e49525270 button.colab-df-convert');\n",
              "        buttonEl.style.display =\n",
              "          google.colab.kernel.accessAllowed ? 'block' : 'none';\n",
              "\n",
              "        async function convertToInteractive(key) {\n",
              "          const element = document.querySelector('#df-3f7219b4-4971-4d20-8fc3-ae7e49525270');\n",
              "          const dataTable =\n",
              "            await google.colab.kernel.invokeFunction('convertToInteractive',\n",
              "                                                     [key], {});\n",
              "          if (!dataTable) return;\n",
              "\n",
              "          const docLinkHtml = 'Like what you see? Visit the ' +\n",
              "            '<a target=\"_blank\" href=https://colab.research.google.com/notebooks/data_table.ipynb>data table notebook</a>'\n",
              "            + ' to learn more about interactive tables.';\n",
              "          element.innerHTML = '';\n",
              "          dataTable['output_type'] = 'display_data';\n",
              "          await google.colab.output.renderOutput(dataTable, element);\n",
              "          const docLink = document.createElement('div');\n",
              "          docLink.innerHTML = docLinkHtml;\n",
              "          element.appendChild(docLink);\n",
              "        }\n",
              "      </script>\n",
              "    </div>\n",
              "  </div>\n",
              "  "
            ]
          },
          "metadata": {},
          "execution_count": 21
        }
      ]
    },
    {
      "cell_type": "code",
      "source": [
        "from sklearn.metrics import *\n",
        "roc_auc_score(test.IntentToStayHighLow,predictor.predict_proba(test)[1])"
      ],
      "metadata": {
        "colab": {
          "base_uri": "https://localhost:8080/"
        },
        "id": "Zr63vsUWRZhv",
        "outputId": "6f34c91f-49e2-46fe-d37c-ebdc6b2f7f71"
      },
      "execution_count": 22,
      "outputs": [
        {
          "output_type": "execute_result",
          "data": {
            "text/plain": [
              "0.9208965643052599"
            ]
          },
          "metadata": {},
          "execution_count": 22
        }
      ]
    },
    {
      "cell_type": "markdown",
      "source": [
        "For testing custom models (e.g., the ones that you fine-tuned), you can refer to https://auto.gluon.ai/stable/tutorials/tabular_prediction/tabular-custom-model.html"
      ],
      "metadata": {
        "id": "dZpc34bKY0X3"
      }
    },
    {
      "cell_type": "markdown",
      "source": [
        "# **XGBoost and Explainer Dashboard**"
      ],
      "metadata": {
        "id": "lrIUr8pMZS5l"
      }
    },
    {
      "cell_type": "code",
      "source": [
        "clf = XGBClassifier(objective = \"binary:logistic\", random_state = 1)\n",
        "clf.fit(train.drop(columns = \"IntentToStayHighLow\"), train.IntentToStayHighLow)"
      ],
      "metadata": {
        "colab": {
          "base_uri": "https://localhost:8080/"
        },
        "id": "oos68g7mLBfp",
        "outputId": "1bc0c7f0-2410-4975-c793-63a63d4289f2"
      },
      "execution_count": 15,
      "outputs": [
        {
          "output_type": "execute_result",
          "data": {
            "text/plain": [
              "XGBClassifier(random_state=1)"
            ]
          },
          "metadata": {},
          "execution_count": 15
        }
      ]
    },
    {
      "cell_type": "code",
      "source": [
        "roc_auc_score(test.IntentToStayHighLow,clf.predict_proba(test.drop(columns = \"IntentToStayHighLow\"))[:,1])"
      ],
      "metadata": {
        "colab": {
          "base_uri": "https://localhost:8080/"
        },
        "id": "zcKSxUDmSNu9",
        "outputId": "9530a02b-e5b1-4958-c2cf-975c38e44508"
      },
      "execution_count": 19,
      "outputs": [
        {
          "output_type": "execute_result",
          "data": {
            "text/plain": [
              "0.9217311036789296"
            ]
          },
          "metadata": {},
          "execution_count": 19
        }
      ]
    },
    {
      "cell_type": "code",
      "source": [
        "from explainerdashboard import ClassifierExplainer, ExplainerDashboard\n",
        "explainer = ClassifierExplainer(clf, test.drop(columns = \"IntentToStayHighLow\"), test.IntentToStayHighLow)"
      ],
      "metadata": {
        "colab": {
          "base_uri": "https://localhost:8080/",
          "height": 104
        },
        "id": "dfOJonLUK36a",
        "outputId": "c1f9871b-1f09-4145-cf87-5c3c5ba5f8ce"
      },
      "execution_count": null,
      "outputs": [
        {
          "output_type": "stream",
          "name": "stdout",
          "text": [
            "Detected XGBClassifier model: Changing class type to XGBClassifierExplainer...\n",
            "Note: model_output=='probability'. For XGBClassifier shap values normally get calculated against X_background, but paramater X_background=None, so using X instead\n",
            "Generating self.shap_explainer = shap.TreeExplainer(model, X, model_output='probability', feature_perturbation='interventional')...\n",
            "Note: Shap interaction values will not be available. If shap values in probability space are not necessary you can pass model_output='logodds' to get shap values in logodds without the need for a background dataset and also working shap interaction values...\n"
          ]
        }
      ]
    },
    {
      "cell_type": "code",
      "source": [
        "ExplainerDashboard(explainer, mode='inline').run(port=8051)"
      ],
      "metadata": {
        "colab": {
          "base_uri": "https://localhost:8080/",
          "height": 1000
        },
        "id": "QB26aCy7LX5J",
        "outputId": "6a74c681-b0f2-4f5b-da0f-479dd293eb64"
      },
      "execution_count": null,
      "outputs": [
        {
          "output_type": "stream",
          "name": "stdout",
          "text": [
            "Building ExplainerDashboard..\n",
            "For this type of model and model_output interactions don't work, so setting shap_interaction=False...\n",
            "Generating layout...\n",
            "Calculating shap values...\n",
            "Calculating prediction probabilities...\n",
            "Calculating metrics...\n",
            "Calculating confusion matrices...\n",
            "Calculating classification_dfs...\n",
            "Calculating roc auc curves...\n",
            "Calculating pr auc curves...\n",
            "Calculating liftcurve_dfs...\n",
            "Generating xgboost model dump...\n",
            "Calculating dependencies...\n",
            "Calculating permutation importances (if slow, try setting n_jobs parameter)...\n",
            "Calculating predictions...\n",
            "Calculating pred_percentiles...\n",
            "Calculating ShadowDecTree for each individual decision tree...\n",
            "Reminder: you can store the explainer (including calculated dependencies) with explainer.dump('explainer.joblib') and reload with e.g. ClassifierExplainer.from_file('explainer.joblib')\n",
            "Registering callbacks...\n",
            "Starting ExplainerDashboard inline (terminate it with ExplainerDashboard.terminate(8051))\n"
          ]
        },
        {
          "output_type": "display_data",
          "data": {
            "text/plain": [
              "<IPython.core.display.Javascript object>"
            ],
            "application/javascript": [
              "(async (port, path, width, height, cache, element) => {\n",
              "    if (!google.colab.kernel.accessAllowed && !cache) {\n",
              "      return;\n",
              "    }\n",
              "    element.appendChild(document.createTextNode(''));\n",
              "    const url = await google.colab.kernel.proxyPort(port, {cache});\n",
              "    const iframe = document.createElement('iframe');\n",
              "    iframe.src = new URL(path, url).toString();\n",
              "    iframe.height = height;\n",
              "    iframe.width = width;\n",
              "    iframe.style.border = 0;\n",
              "    iframe.allow = [\n",
              "        'accelerometer',\n",
              "        'autoplay',\n",
              "        'camera',\n",
              "        'clipboard-read',\n",
              "        'clipboard-write',\n",
              "        'gyroscope',\n",
              "        'magnetometer',\n",
              "        'microphone',\n",
              "        'serial',\n",
              "        'usb',\n",
              "        'xr-spatial-tracking',\n",
              "    ].join('; ');\n",
              "    element.appendChild(iframe);\n",
              "  })(8051, \"/\", 1000, 800, false, window.element)"
            ]
          },
          "metadata": {}
        }
      ]
    },
    {
      "cell_type": "code",
      "source": [],
      "metadata": {
        "id": "bwbCs0XDLltE"
      },
      "execution_count": null,
      "outputs": []
    }
  ]
}